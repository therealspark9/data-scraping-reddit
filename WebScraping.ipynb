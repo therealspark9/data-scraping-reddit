{
 "cells": [
  {
   "cell_type": "markdown",
   "metadata": {},
   "source": [
    "# Web Scraping Subreddits of Interest"
   ]
  },
  {
   "cell_type": "markdown",
   "metadata": {},
   "source": [
    "## Introduction\n",
    "\n",
    "In this project, we'll build a web scraper to extract job listings from a popular job search platform. We'll extract job titles, companies, locations, job descriptions, and other relevant information.\n",
    "\n",
    "Here are the main steps we'll follow in this project:\n",
    "\n",
    "1. Setup our development environment\n",
    "2. Understand the basics of web scraping\n",
    "3. Analyze the website structure of our job search platform\n",
    "4. Write the Python code to extract job data from our job search platform\n",
    "5. Save the data to a CSV file\n",
    "6. Test our web scraper and refine our code as needed\n",
    "\n",
    "## Prerequisites\n",
    "\n",
    "Before starting this project, you should have some basic knowledge of Python programming and HTML structure. In addition, you may want to use the following packages in your Python environment:\n",
    "\n",
    "- requests\n",
    "- BeautifulSoup\n",
    "- csv\n",
    "- datetime\n",
    "\n",
    "These packages should already be installed in Coursera's Jupyter Notebook environment, however if you'd like to install additional packages that are not included in this environment or are working off platform you can install additional packages using `!pip install packagename` within a notebook cell such as:\n",
    "\n",
    "- `!pip install requests`\n",
    "- `!pip install BeautifulSoup`"
   ]
  },
  {
   "cell_type": "markdown",
   "metadata": {},
   "source": [
    "## Step 1: Importing Required Libraries"
   ]
  },
  {
   "cell_type": "code",
   "execution_count": 1,
   "metadata": {},
   "outputs": [],
   "source": [
    "# your code here"
   ]
  },
  {
   "cell_type": "code",
   "execution_count": 5,
   "metadata": {},
   "outputs": [
    {
     "name": "stdout",
     "output_type": "stream",
     "text": [
      "Requirement already satisfied: praw in c:\\python310\\lib\\site-packages (7.7.1)\n",
      "Requirement already satisfied: prawcore<3,>=2.1 in c:\\python310\\lib\\site-packages (from praw) (2.4.0)\n",
      "Requirement already satisfied: update-checker>=0.18 in c:\\python310\\lib\\site-packages (from praw) (0.18.0)\n",
      "Requirement already satisfied: websocket-client>=0.54.0 in c:\\users\\sachh\\appdata\\roaming\\python\\python310\\site-packages (from praw) (1.7.0)\n",
      "Requirement already satisfied: requests<3.0,>=2.6.0 in c:\\python310\\lib\\site-packages (from prawcore<3,>=2.1->praw) (2.31.0)\n",
      "Requirement already satisfied: charset-normalizer<4,>=2 in c:\\python310\\lib\\site-packages (from requests<3.0,>=2.6.0->prawcore<3,>=2.1->praw) (3.3.2)\n",
      "Requirement already satisfied: idna<4,>=2.5 in c:\\python310\\lib\\site-packages (from requests<3.0,>=2.6.0->prawcore<3,>=2.1->praw) (3.6)\n",
      "Requirement already satisfied: urllib3<3,>=1.21.1 in c:\\python310\\lib\\site-packages (from requests<3.0,>=2.6.0->prawcore<3,>=2.1->praw) (2.1.0)\n",
      "Requirement already satisfied: certifi>=2017.4.17 in c:\\python310\\lib\\site-packages (from requests<3.0,>=2.6.0->prawcore<3,>=2.1->praw) (2023.11.17)\n",
      "Note: you may need to restart the kernel to use updated packages.\n"
     ]
    },
    {
     "name": "stderr",
     "output_type": "stream",
     "text": [
      "WARNING: Ignoring invalid distribution -ip (c:\\python310\\lib\\site-packages)\n",
      "WARNING: Ignoring invalid distribution -ip (c:\\python310\\lib\\site-packages)\n"
     ]
    }
   ],
   "source": [
    "pip install praw"
   ]
  },
  {
   "cell_type": "code",
   "execution_count": null,
   "metadata": {},
   "outputs": [],
   "source": [
    "import os\n",
    "import praw\n",
    "import pandas as pd\n",
    "import datetime as dt\n",
    "from tqdm import tqdm\n",
    "import time"
   ]
  },
  {
   "cell_type": "code",
   "execution_count": 4,
   "metadata": {},
   "outputs": [],
   "source": [
    "def get_date(created):\n",
    "    return dt.datetime.fromtimestamp(created)"
   ]
  },
  {
   "cell_type": "code",
   "execution_count": 12,
   "metadata": {},
   "outputs": [],
   "source": [
    "#fill in the below Authentication details from Reddit\n",
    "def reddit_connection():\n",
    "\n",
    "    reddit = praw.Reddit(\n",
    "        client_id=\"SI8pN3DSbt0zor\",\n",
    "        client_secret=\"xaxkj7HNh8kwg8e5t4m6KvSrbTI\",\n",
    "        password=\"1guiwevlfo00esyy\",\n",
    "        user_agent=\"testscript by u/SachindraBhattacharya\",\n",
    "        username=\"Sachindra Bhattacharya\",\n",
    ")\n",
    "    return reddit"
   ]
  },
  {
   "cell_type": "code",
   "execution_count": 15,
   "metadata": {},
   "outputs": [
    {
     "name": "stdout",
     "output_type": "stream",
     "text": [
      "TheBadAimGuy\n"
     ]
    }
   ],
   "source": [
    "print(reddit.user.me())"
   ]
  },
  {
   "cell_type": "code",
   "execution_count": 16,
   "metadata": {},
   "outputs": [],
   "source": [
    "def build_dataset(reddit, search_words='gameofthrones', items_limit=None):\n",
    "\n",
    "    # Collect reddit posts\n",
    "    subreddit = reddit.subreddit(search_words)\n",
    "    new_subreddit = subreddit.new(limit=items_limit)\n",
    "    topics_dict = { \"title\":[],\n",
    "                \"score\":[],\n",
    "                \"id\":[], \"url\":[],\n",
    "                \"comms_num\": [],\n",
    "                \"created\": [],\n",
    "                \"body\":[]}\n",
    "\n",
    "    print(f\"retreive new reddit posts ...\")\n",
    "    for submission in tqdm(new_subreddit):\n",
    "        topics_dict[\"title\"].append(submission.title)\n",
    "        topics_dict[\"score\"].append(submission.score)\n",
    "        topics_dict[\"id\"].append(submission.id)\n",
    "        topics_dict[\"url\"].append(submission.url)\n",
    "        topics_dict[\"comms_num\"].append(submission.num_comments)\n",
    "        topics_dict[\"created\"].append(submission.created)\n",
    "        topics_dict[\"body\"].append(submission.selftext)\n",
    "\n",
    "    for comment in tqdm(subreddit.comments(limit=None)):\n",
    "        topics_dict[\"title\"].append(\"Comment\")\n",
    "        topics_dict[\"score\"].append(comment.score)\n",
    "        topics_dict[\"id\"].append(comment.id)\n",
    "        topics_dict[\"url\"].append(\"\")\n",
    "        topics_dict[\"comms_num\"].append(0)\n",
    "        topics_dict[\"created\"].append(comment.created)\n",
    "        topics_dict[\"body\"].append(comment.body)\n",
    "\n",
    "    topics_df = pd.DataFrame(topics_dict)\n",
    "    print(f\"new reddit posts retrieved: {len(topics_df)}\")\n",
    "    topics_df['timestamp'] = topics_df['created'].apply(lambda x: get_date(x))\n",
    "\n",
    "    return topics_df"
   ]
  },
  {
   "cell_type": "code",
   "execution_count": 17,
   "metadata": {},
   "outputs": [],
   "source": [
    "def update_and_save_dataset(topics_df):   \n",
    "    file_path = \"reddit_GoT.csv\"\n",
    "    if os.path.exists(file_path):\n",
    "        topics_old_df = pd.read_csv(file_path)\n",
    "        print(f\"past reddit posts: {topics_old_df.shape}\")\n",
    "        topics_all_df = pd.concat([topics_old_df, topics_df], axis=0)\n",
    "        print(f\"new reddit posts: {topics_df.shape[0]} past posts: {topics_old_df.shape[0]} all posts: {topics_all_df.shape[0]}\")\n",
    "        topics_new_df = topics_all_df.drop_duplicates(subset = [\"id\"], keep='last', inplace=False)\n",
    "        print(f\"all reddit posts: {topics_new_df.shape}\")\n",
    "        topics_new_df.to_csv(file_path, index=False)\n",
    "    else:\n",
    "        print(f\"reddit posts: {topics_df.shape}\")\n",
    "        topics_df.to_csv(file_path, index=False)"
   ]
  },
  {
   "cell_type": "code",
   "execution_count": 18,
   "metadata": {},
   "outputs": [
    {
     "name": "stderr",
     "output_type": "stream",
     "text": [
      "0it [00:00, ?it/s]"
     ]
    },
    {
     "name": "stdout",
     "output_type": "stream",
     "text": [
      "retreive new reddit posts ...\n"
     ]
    },
    {
     "name": "stderr",
     "output_type": "stream",
     "text": [
      "977it [00:11, 85.71it/s]\n",
      "972it [00:06, 140.93it/s]"
     ]
    },
    {
     "name": "stdout",
     "output_type": "stream",
     "text": [
      "new reddit posts retrieved: 1949\n",
      "reddit posts: (1949, 8)\n"
     ]
    },
    {
     "name": "stderr",
     "output_type": "stream",
     "text": [
      "\n"
     ]
    }
   ],
   "source": [
    "if __name__ == \"__main__\": \n",
    "\treddit = reddit_connection()\n",
    "\ttopics_data_df = build_dataset(reddit)\n",
    "\tupdate_and_save_dataset(topics_data_df)"
   ]
  },
  {
   "cell_type": "code",
   "execution_count": 19,
   "metadata": {},
   "outputs": [],
   "source": [
    "df = pd.read_csv('reddit_GoT.csv')"
   ]
  },
  {
   "cell_type": "code",
   "execution_count": 20,
   "metadata": {},
   "outputs": [
    {
     "data": {
      "text/html": [
       "<div>\n",
       "<style scoped>\n",
       "    .dataframe tbody tr th:only-of-type {\n",
       "        vertical-align: middle;\n",
       "    }\n",
       "\n",
       "    .dataframe tbody tr th {\n",
       "        vertical-align: top;\n",
       "    }\n",
       "\n",
       "    .dataframe thead th {\n",
       "        text-align: right;\n",
       "    }\n",
       "</style>\n",
       "<table border=\"1\" class=\"dataframe\">\n",
       "  <thead>\n",
       "    <tr style=\"text-align: right;\">\n",
       "      <th></th>\n",
       "      <th>title</th>\n",
       "      <th>score</th>\n",
       "      <th>id</th>\n",
       "      <th>url</th>\n",
       "      <th>comms_num</th>\n",
       "      <th>created</th>\n",
       "      <th>body</th>\n",
       "      <th>timestamp</th>\n",
       "    </tr>\n",
       "  </thead>\n",
       "  <tbody>\n",
       "    <tr>\n",
       "      <th>0</th>\n",
       "      <td>Little step</td>\n",
       "      <td>2</td>\n",
       "      <td>1diosnm</td>\n",
       "      <td>https://i.redd.it/uxvyfd0xjb7d1.jpeg</td>\n",
       "      <td>1</td>\n",
       "      <td>1.718712e+09</td>\n",
       "      <td>NaN</td>\n",
       "      <td>2024-06-18 11:53:22</td>\n",
       "    </tr>\n",
       "    <tr>\n",
       "      <th>1</th>\n",
       "      <td>The Jon Snow vibes were so beautiful. Jace has...</td>\n",
       "      <td>1</td>\n",
       "      <td>1dios0k</td>\n",
       "      <td>https://i.redd.it/dsawtrbtjb7d1.jpeg</td>\n",
       "      <td>2</td>\n",
       "      <td>1.718712e+09</td>\n",
       "      <td>NaN</td>\n",
       "      <td>2024-06-18 11:52:19</td>\n",
       "    </tr>\n",
       "    <tr>\n",
       "      <th>2</th>\n",
       "      <td>Audio quality is terrible in a feast for crows...</td>\n",
       "      <td>2</td>\n",
       "      <td>1dinck2</td>\n",
       "      <td>https://www.reddit.com/r/gameofthrones/comment...</td>\n",
       "      <td>2</td>\n",
       "      <td>1.718706e+09</td>\n",
       "      <td>What happened to the audio?  I’ve seen posts a...</td>\n",
       "      <td>2024-06-18 10:26:23</td>\n",
       "    </tr>\n",
       "    <tr>\n",
       "      <th>3</th>\n",
       "      <td>Lego idea</td>\n",
       "      <td>1</td>\n",
       "      <td>1dimosd</td>\n",
       "      <td>https://www.reddit.com/r/gameofthrones/comment...</td>\n",
       "      <td>1</td>\n",
       "      <td>1.718704e+09</td>\n",
       "      <td>Does Leogs have a piece set for KingsLanding?I...</td>\n",
       "      <td>2024-06-18 09:42:49</td>\n",
       "    </tr>\n",
       "    <tr>\n",
       "      <th>4</th>\n",
       "      <td>My thoughts 💭</td>\n",
       "      <td>2</td>\n",
       "      <td>1dimfl3</td>\n",
       "      <td>https://i.redd.it/zytmqonjta7d1.jpeg</td>\n",
       "      <td>4</td>\n",
       "      <td>1.718703e+09</td>\n",
       "      <td>This is who Sam Tarly would be if Samwell was ...</td>\n",
       "      <td>2024-06-18 09:25:02</td>\n",
       "    </tr>\n",
       "    <tr>\n",
       "      <th>...</th>\n",
       "      <td>...</td>\n",
       "      <td>...</td>\n",
       "      <td>...</td>\n",
       "      <td>...</td>\n",
       "      <td>...</td>\n",
       "      <td>...</td>\n",
       "      <td>...</td>\n",
       "      <td>...</td>\n",
       "    </tr>\n",
       "    <tr>\n",
       "      <th>1944</th>\n",
       "      <td>Comment</td>\n",
       "      <td>1</td>\n",
       "      <td>l922cap</td>\n",
       "      <td>NaN</td>\n",
       "      <td>0</td>\n",
       "      <td>1.718657e+09</td>\n",
       "      <td>Yes. Everyone was perfectly cast. They all gam...</td>\n",
       "      <td>2024-06-17 20:50:59</td>\n",
       "    </tr>\n",
       "    <tr>\n",
       "      <th>1945</th>\n",
       "      <td>Comment</td>\n",
       "      <td>2</td>\n",
       "      <td>l922ba2</td>\n",
       "      <td>NaN</td>\n",
       "      <td>0</td>\n",
       "      <td>1.718657e+09</td>\n",
       "      <td>Here here! :)</td>\n",
       "      <td>2024-06-17 20:50:49</td>\n",
       "    </tr>\n",
       "    <tr>\n",
       "      <th>1946</th>\n",
       "      <td>Comment</td>\n",
       "      <td>1</td>\n",
       "      <td>l9227mz</td>\n",
       "      <td>NaN</td>\n",
       "      <td>0</td>\n",
       "      <td>1.718657e+09</td>\n",
       "      <td>id add in theon or swap rhaenyra out for him</td>\n",
       "      <td>2024-06-17 20:50:15</td>\n",
       "    </tr>\n",
       "    <tr>\n",
       "      <th>1947</th>\n",
       "      <td>Comment</td>\n",
       "      <td>2</td>\n",
       "      <td>l9222p2</td>\n",
       "      <td>NaN</td>\n",
       "      <td>0</td>\n",
       "      <td>1.718657e+09</td>\n",
       "      <td>Because he wasn’t born a nobleman, he doesn’t ...</td>\n",
       "      <td>2024-06-17 20:49:31</td>\n",
       "    </tr>\n",
       "    <tr>\n",
       "      <th>1948</th>\n",
       "      <td>Comment</td>\n",
       "      <td>2</td>\n",
       "      <td>l921vju</td>\n",
       "      <td>NaN</td>\n",
       "      <td>0</td>\n",
       "      <td>1.718657e+09</td>\n",
       "      <td>Emilia is my ABSOLUTE favorite actress in GOT;...</td>\n",
       "      <td>2024-06-17 20:48:25</td>\n",
       "    </tr>\n",
       "  </tbody>\n",
       "</table>\n",
       "<p>1949 rows × 8 columns</p>\n",
       "</div>"
      ],
      "text/plain": [
       "                                                  title  score       id  \\\n",
       "0                                           Little step      2  1diosnm   \n",
       "1     The Jon Snow vibes were so beautiful. Jace has...      1  1dios0k   \n",
       "2     Audio quality is terrible in a feast for crows...      2  1dinck2   \n",
       "3                                             Lego idea      1  1dimosd   \n",
       "4                                         My thoughts 💭      2  1dimfl3   \n",
       "...                                                 ...    ...      ...   \n",
       "1944                                            Comment      1  l922cap   \n",
       "1945                                            Comment      2  l922ba2   \n",
       "1946                                            Comment      1  l9227mz   \n",
       "1947                                            Comment      2  l9222p2   \n",
       "1948                                            Comment      2  l921vju   \n",
       "\n",
       "                                                    url  comms_num  \\\n",
       "0                  https://i.redd.it/uxvyfd0xjb7d1.jpeg          1   \n",
       "1                  https://i.redd.it/dsawtrbtjb7d1.jpeg          2   \n",
       "2     https://www.reddit.com/r/gameofthrones/comment...          2   \n",
       "3     https://www.reddit.com/r/gameofthrones/comment...          1   \n",
       "4                  https://i.redd.it/zytmqonjta7d1.jpeg          4   \n",
       "...                                                 ...        ...   \n",
       "1944                                                NaN          0   \n",
       "1945                                                NaN          0   \n",
       "1946                                                NaN          0   \n",
       "1947                                                NaN          0   \n",
       "1948                                                NaN          0   \n",
       "\n",
       "           created                                               body  \\\n",
       "0     1.718712e+09                                                NaN   \n",
       "1     1.718712e+09                                                NaN   \n",
       "2     1.718706e+09  What happened to the audio?  I’ve seen posts a...   \n",
       "3     1.718704e+09  Does Leogs have a piece set for KingsLanding?I...   \n",
       "4     1.718703e+09  This is who Sam Tarly would be if Samwell was ...   \n",
       "...            ...                                                ...   \n",
       "1944  1.718657e+09  Yes. Everyone was perfectly cast. They all gam...   \n",
       "1945  1.718657e+09                                      Here here! :)   \n",
       "1946  1.718657e+09       id add in theon or swap rhaenyra out for him   \n",
       "1947  1.718657e+09  Because he wasn’t born a nobleman, he doesn’t ...   \n",
       "1948  1.718657e+09  Emilia is my ABSOLUTE favorite actress in GOT;...   \n",
       "\n",
       "                timestamp  \n",
       "0     2024-06-18 11:53:22  \n",
       "1     2024-06-18 11:52:19  \n",
       "2     2024-06-18 10:26:23  \n",
       "3     2024-06-18 09:42:49  \n",
       "4     2024-06-18 09:25:02  \n",
       "...                   ...  \n",
       "1944  2024-06-17 20:50:59  \n",
       "1945  2024-06-17 20:50:49  \n",
       "1946  2024-06-17 20:50:15  \n",
       "1947  2024-06-17 20:49:31  \n",
       "1948  2024-06-17 20:48:25  \n",
       "\n",
       "[1949 rows x 8 columns]"
      ]
     },
     "execution_count": 20,
     "metadata": {},
     "output_type": "execute_result"
    }
   ],
   "source": [
    "df"
   ]
  },
  {
   "cell_type": "code",
   "execution_count": null,
   "metadata": {},
   "outputs": [],
   "source": []
  }
 ],
 "metadata": {
  "kernelspec": {
   "display_name": "Python 3",
   "language": "python",
   "name": "python3"
  },
  "language_info": {
   "codemirror_mode": {
    "name": "ipython",
    "version": 3
   },
   "file_extension": ".py",
   "mimetype": "text/x-python",
   "name": "python",
   "nbconvert_exporter": "python",
   "pygments_lexer": "ipython3",
   "version": "3.10.8"
  }
 },
 "nbformat": 4,
 "nbformat_minor": 4
}
